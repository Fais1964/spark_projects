{
 "cells": [
  {
   "cell_type": "code",
   "execution_count": 1,
   "metadata": {},
   "outputs": [],
   "source": [
    "# Analysing Big Data with Pyspark"
   ]
  },
  {
   "cell_type": "code",
   "execution_count": 22,
   "metadata": {},
   "outputs": [],
   "source": [
    "# Import necessary libraries\n",
    "from pyspark.sql import SparkSession\n",
    "from pyspark.sql.functions import *\n",
    "import matplotlib.pyplot as plt\n",
    "import numpy as np"
   ]
  },
  {
   "cell_type": "code",
   "execution_count": 44,
   "metadata": {},
   "outputs": [
    {
     "name": "stdout",
     "output_type": "stream",
     "text": [
      "+--------------------+--------------------+-----------------+--------------+------+--------------------+--------+---------+----------+-------+--------------+----------+----------------+---------------+---------------+---------+--------+-----------+----------+----------------+------------------+----------------+--------+--------------------+--------------------+--------+----------+------------+----------+\n",
      "|            observed|    location_details|           county|         state|season|               title|latitude|longitude|      date| number|classification|   geohash|temperature_high|temperature_mid|temperature_low|dew_point|humidity|cloud_cover|moon_phase|precip_intensity|precip_probability|     precip_type|pressure|             summary|          conditions|uv_index|visibility|wind_bearing|wind_speed|\n",
      "+--------------------+--------------------+-----------------+--------------+------+--------------------+--------+---------+----------+-------+--------------+----------+----------------+---------------+---------------+---------+--------+-----------+----------+----------------+------------------+----------------+--------+--------------------+--------------------+--------+----------+------------+----------+\n",
      "|I don't know if w...|Heading to the de...|   Wyoming County| West Virginia|Winter|Report 13237: Day...|37.58135|-81.29745|2005-12-03|13237.0|       Class A|dnwjy13p0p|            37.8|           29.5|           21.6|     17.5|    61.7|       66.7|      0.07|           0.204|             100.0|['rain', 'snow']|  1018.7|Partly cloudy thr...|Snow, Rain, Parti...|    null|       9.3|       168.1|      17.1|\n",
      "|It was spring bre...|Wythe county Virg...|     Wythe County|      Virginia|Spring|\"Report 2285: Boy...|37.22647|-81.09017|1984-04-08| 2285.0|       Class A|dnw7f8zgyh|            59.0|           47.8|           37.0|     28.1|    49.2|       76.2|      0.25|             0.0|               0.0|            null|  1020.9|Partly cloudy thr...|    Partially cloudy|    null|      13.0|       107.3|      11.5|\n",
      "|It was the winter...|Hwy 182, Wood Cou...|      Wood County|         Texas|Winter|Report 2048: Nigh...| 32.7943| -95.5425|1996-12-22| 2048.0|       Class A|9vu49fh0dk|            75.3|           71.4|           68.1|     58.6|    64.7|       52.9|      0.43|            null|               0.0|            null|    null|Partly cloudy thr...|    Partially cloudy|    null|      10.5|       180.4|      20.8|\n",
      "|My brother and I ...|Sighting occurred...|Williamson County|     Tennessee|Spring|                null|    null|     null|      null| 6463.0|       Class A|      null|            null|           null|           null|     null|    null|       null|      null|            null|              null|            null|    null|                null|                null|    null|      null|        null|      null|\n",
      "|This happened to ...|York South Caroli...|      York County|South Carolina|  Fall|                null|    null|     null|      null|  977.0|       Class A|      null|            null|           null|           null|     null|    null|       null|      null|            null|              null|            null|    null|                null|                null|    null|      null|        null|      null|\n",
      "|\"I was staying th...|Vincent, Ohio (In...|Washington County|          Ohio|Summer|Report 4983: Sigh...|39.38745|-81.67339|1971-08-01| 4983.0|       Class A|dpjbj6r280|             0.0|           null|            0.0|     null|    null|       null|      0.33|            null|              null|            null|    null|                null|                null|    null|      null|        null|      null|\n",
      "|This may not even...|                null|Washington County|          Ohio|Summer|Report 3180: Earl...|39.40877|-81.73172|1978-07-04| 3180.0|       Class A|dpjbhnhu8z|            76.0|           70.3|           67.6|     62.5|    76.7|       99.6|      0.97|             0.0|               0.0|            null|  1014.2|Cloudy skies thro...|            Overcast|    null|       3.6|       348.9|      11.2|\n",
      "|I would like to s...|Between Whipple a...|Washington County|          Ohio|Winter|Report 7220: A ma...|39.54739|-81.39101|1978-11-01| 7220.0|       Class A|dpn0gzkuhp|            61.4|           49.4|           41.4|     43.7|    81.8|       27.5|      0.03|             0.0|               0.0|            null|  1025.4|Partly cloudy thr...|    Partially cloudy|    null|       4.7|        11.9|       8.5|\n",
      "|It was July 4th, ...|A few miles off S...|Washington County|          Ohio|Summer|Report 4073: Whit...|39.46019|-81.54855|1984-07-04| 4073.0|       Class A|dpn02rd0m0|            79.9|           74.7|           70.1|     63.4|    68.2|       91.6|       0.2|           0.039|             100.0|        ['rain']|  1012.7|Cloudy skies thro...|      Rain, Overcast|    null|       4.6|       199.2|      13.9|\n",
      "|My two brothers, ...|It's roughly four...|Washington County|          Ohio|Summer|Report 7085: Thre...| 39.3731|-81.65929|1990-07-01| 7085.0|       Class A|dnvzvz9sbt|            83.8|           74.4|           65.7|     66.9|    79.2|       67.4|      0.29|           0.079|             100.0|        ['rain']|  1011.9|Partly cloudy thr...|Rain, Partially c...|    null|       6.0|       319.2|      15.8|\n",
      "+--------------------+--------------------+-----------------+--------------+------+--------------------+--------+---------+----------+-------+--------------+----------+----------------+---------------+---------------+---------+--------+-----------+----------+----------------+------------------+----------------+--------+--------------------+--------------------+--------+----------+------------+----------+\n",
      "only showing top 10 rows\n",
      "\n"
     ]
    }
   ],
   "source": [
    "# Create a SparkSession\n",
    "spark = SparkSession.builder.appName(\"BFRO_Sightings_Analysis\").getOrCreate()\n",
    "\n",
    "# Load the data into a Spark DataFrame\n",
    "df = spark.read.format(\"csv\").option(\"header\", \"true\").option(\"inferSchema\", \"true\").option(\"ignoreLeadingWhiteSpace\", \"true\").option(\"ignoreTrailingWhiteSpace\", \"true\").option(\n",
    "    \"quote\", \"\\\"\").option(\"charset\", \"UTF-8\").option(\"mode\", \"DROPMALFORMED\").option(\"columns\", \"col1 string, col2 string, col3 string\").load(\"data/bfro_reports_geocoded.csv\")\n",
    "\n",
    "# Show the first 10 rows of the DataFrame\n",
    "df.show(10)"
   ]
  },
  {
   "cell_type": "code",
   "execution_count": 24,
   "metadata": {},
   "outputs": [
    {
     "data": {
      "text/plain": [
       "['observed',\n",
       " 'location_details',\n",
       " 'county',\n",
       " 'state',\n",
       " 'season',\n",
       " 'title',\n",
       " 'latitude',\n",
       " 'longitude',\n",
       " 'date',\n",
       " 'number',\n",
       " 'classification',\n",
       " 'geohash',\n",
       " 'temperature_high',\n",
       " 'temperature_mid',\n",
       " 'temperature_low',\n",
       " 'dew_point',\n",
       " 'humidity',\n",
       " 'cloud_cover',\n",
       " 'moon_phase',\n",
       " 'precip_intensity',\n",
       " 'precip_probability',\n",
       " 'precip_type',\n",
       " 'pressure',\n",
       " 'summary',\n",
       " 'conditions',\n",
       " 'uv_index',\n",
       " 'visibility',\n",
       " 'wind_bearing',\n",
       " 'wind_speed']"
      ]
     },
     "execution_count": 24,
     "metadata": {},
     "output_type": "execute_result"
    }
   ],
   "source": [
    "# Print the schema of the DataFrame\n",
    "df.columns"
   ]
  },
  {
   "cell_type": "code",
   "execution_count": 25,
   "metadata": {},
   "outputs": [
    {
     "name": "stdout",
     "output_type": "stream",
     "text": [
      "+----------+-----+\n",
      "|     state|count|\n",
      "+----------+-----+\n",
      "|Washington|  407|\n",
      "|California|  265|\n",
      "|   Florida|  228|\n",
      "|      Ohio|  209|\n",
      "|  Illinois|  186|\n",
      "|     Texas|  165|\n",
      "|    Oregon|  159|\n",
      "|  Michigan|  156|\n",
      "|  Missouri|  109|\n",
      "|   Georgia|   98|\n",
      "+----------+-----+\n",
      "only showing top 10 rows\n",
      "\n"
     ]
    }
   ],
   "source": [
    "\n",
    "# Count the number of sightings per state and sort in descending order\n",
    "state_counts = df.groupBy(\"state\").count().orderBy(desc(\"count\"))\n",
    "\n",
    "# Show the top 10 states with the most sightings\n",
    "state_counts.show(10)"
   ]
  },
  {
   "cell_type": "code",
   "execution_count": 26,
   "metadata": {},
   "outputs": [
    {
     "name": "stdout",
     "output_type": "stream",
     "text": [
      "+-----+-----+\n",
      "|month|count|\n",
      "+-----+-----+\n",
      "| null| 2198|\n",
      "|    1|  193|\n",
      "|    2|  121|\n",
      "|    3|  129|\n",
      "|    4|  167|\n",
      "|    5|  200|\n",
      "|    6|  285|\n",
      "|    7|  351|\n",
      "|    8|  323|\n",
      "|    9|  275|\n",
      "|   10|  388|\n",
      "|   11|  284|\n",
      "|   12|  168|\n",
      "+-----+-----+\n",
      "\n"
     ]
    }
   ],
   "source": [
    "# Calculate the number of sightings per month:\n",
    "sightings_per_month = df.groupBy(\n",
    "    month(\"date\").alias(\"month\")).count().orderBy(\"month\")\n",
    "sightings_per_month.show()"
   ]
  },
  {
   "cell_type": "code",
   "execution_count": 27,
   "metadata": {},
   "outputs": [
    {
     "name": "stdout",
     "output_type": "stream",
     "text": [
      "+--------------+-----+\n",
      "|classification|count|\n",
      "+--------------+-----+\n",
      "|       Class B| 1778|\n",
      "|       Class A| 1762|\n",
      "|          null|  101|\n",
      "|        Summer|   33|\n",
      "|          Fall|   16|\n",
      "|       Class C|   14|\n",
      "|        Spring|   14|\n",
      "|        Winter|   13|\n",
      "|    Washington|    8|\n",
      "|       Florida|    7|\n",
      "+--------------+-----+\n",
      "only showing top 10 rows\n",
      "\n"
     ]
    }
   ],
   "source": [
    "# Find the most common classification:\n",
    "most_common_classification = df.groupBy(\n",
    "    \"classification\").count().orderBy(desc(\"count\"))\n",
    "most_common_classification.show(10)"
   ]
  },
  {
   "cell_type": "code",
   "execution_count": 28,
   "metadata": {},
   "outputs": [],
   "source": [
    "df = df.withColumn(\"SightMonth\", month(col(\"date\"))) \\\n",
    "    .withColumn(\"SightYear\", year(col(\"date\")))\n",
    "\n",
    "df_count = df.groupBy(\"SightMonth\") \\\n",
    "             .count() \\\n",
    "             .withColumn(\"Percentage\", round(col(\"count\")/df.count()*100, 4))"
   ]
  },
  {
   "cell_type": "code",
   "execution_count": 117,
   "metadata": {},
   "outputs": [
    {
     "name": "stdout",
     "output_type": "stream",
     "text": [
      "+----------+-----+----------+\n",
      "|SightMonth|count|Percentage|\n",
      "+----------+-----+----------+\n",
      "|        12|  168|    3.3058|\n",
      "|      null| 2198|   43.2507|\n",
      "|         1|  193|    3.7977|\n",
      "|         6|  285|     5.608|\n",
      "|         3|  129|    2.5384|\n",
      "|         5|  200|    3.9355|\n",
      "|         9|  275|    5.4113|\n",
      "|         4|  167|    3.2861|\n",
      "|         8|  323|    6.3558|\n",
      "|         7|  351|    6.9067|\n",
      "|        10|  388|    7.6348|\n",
      "|        11|  284|    5.5884|\n",
      "|         2|  121|     2.381|\n",
      "+----------+-----+----------+\n",
      "\n"
     ]
    }
   ],
   "source": [
    "df_count.show()"
   ]
  },
  {
   "cell_type": "code",
   "execution_count": 15,
   "metadata": {},
   "outputs": [
    {
     "data": {
      "image/png": "[encoded data removed]",
      "text/plain": [
       "<Figure size 576x432 with 1 Axes>"
      ]
     },
     "metadata": {
      "needs_background": "light"
     },
     "output_type": "display_data"
    }
   ],
   "source": [
    "\n",
    "\n",
    "# Convert the PySpark DataFrame to a Pandas DataFrame\n",
    "df_panda = df_count.toPandas()\n",
    "\n",
    "# Set the plot size\n",
    "plt.figure(figsize=(8, 6))\n",
    "\n",
    "# Create the bar chart\n",
    "plt.bar(df_panda['SightMonth'], df_panda['count'])\n",
    "\n",
    "# Set the x-axis labels\n",
    "plt.xticks(np.arange(1, 13), ['Jan', 'Feb', 'Mar', 'Apr',\n",
    "           'May', 'Jun', 'Jul', 'Aug', 'Sep', 'Oct', 'Nov', 'Dec'])\n",
    "\n",
    "# Set the plot title and axis labels\n",
    "plt.title('Sightings by Month')\n",
    "plt.xlabel('Month')\n",
    "plt.ylabel('Count')\n",
    "\n",
    "# Display the plot\n",
    "plt.show()"
   ]
  },
  {
   "cell_type": "code",
   "execution_count": 43,
   "metadata": {},
   "outputs": [],
   "source": [
    "spark.stop()"
   ]
  }
 ],
 "metadata": {
  "kernelspec": {
   "display_name": "Python 3",
   "language": "python",
   "name": "python3"
  },
  "language_info": {
   "codemirror_mode": {
    "name": "ipython",
    "version": 3
   },
   "file_extension": ".py",
   "mimetype": "text/x-python",
   "name": "python",
   "nbconvert_exporter": "python",
   "pygments_lexer": "ipython3",
   "version": "3.9.0"
  },
  "orig_nbformat": 4
 },
 "nbformat": 4,
 "nbformat_minor": 2
}
